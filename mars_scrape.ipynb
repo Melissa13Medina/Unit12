{
 "cells": [
  {
   "cell_type": "code",
   "execution_count": 1,
   "metadata": {},
   "outputs": [],
   "source": [
    "import time\n",
    "import requests\n",
    "import pymongo\n",
    "import pandas as pd\n",
    "from splinter import Browser\n",
    "from bs4 import BeautifulSoup as bs\n",
    "from selenium import webdriver"
   ]
  },
  {
   "cell_type": "code",
   "execution_count": 4,
   "metadata": {},
   "outputs": [
    {
     "ename": "SyntaxError",
     "evalue": "(unicode error) 'unicodeescape' codec can't decode bytes in position 2-3: truncated \\UXXXXXXXX escape (<ipython-input-4-d5d76e7c0b8b>, line 2)",
     "output_type": "error",
     "traceback": [
      "\u001b[1;36m  File \u001b[1;32m\"<ipython-input-4-d5d76e7c0b8b>\"\u001b[1;36m, line \u001b[1;32m2\u001b[0m\n\u001b[1;33m    chrome_path = \"C:\\Users\\Melissa\\Desktop\\chromedriver\"\u001b[0m\n\u001b[1;37m                 ^\u001b[0m\n\u001b[1;31mSyntaxError\u001b[0m\u001b[1;31m:\u001b[0m (unicode error) 'unicodeescape' codec can't decode bytes in position 2-3: truncated \\UXXXXXXXX escape\n"
     ]
    }
   ],
   "source": [
    "def init_browser():\n",
    "    chrome_path = \"C:\\Users\\Melissa\\Desktop\\chromedriver\"\n",
    "    return Browser(\"chrome\", **chrome_path, headless=False)"
   ]
  },
  {
   "cell_type": "code",
   "execution_count": null,
   "metadata": {},
   "outputs": [],
   "source": [
    "def scrape():\n",
    "    browser = init_browser()\n",
    "    website_url = 'https://mars.nasa.gov/news/'\n",
    "    html = browser.html\n",
    "    red_planet_data = {}\n",
    "    pics = []\n",
    "    \n",
    "    browser.visit(website_url)\n",
    "    time.sleep(1)\n",
    "    \n",
    "    bs_news = bs(html, 'html.parser')\n",
    "    search_results = bs_news.find('div', class_='content_title')\n",
    "    website_title = search_results.next_element.get_text()\n",
    "    teaser = bs_news.find('div', class_='article_teaser_body')\n",
    "    web_result = teaser.get_text()\n",
    "\n",
    "    \n"
   ]
  }
 ],
 "metadata": {
  "kernelspec": {
   "display_name": "Python 3",
   "language": "python",
   "name": "python3"
  },
  "language_info": {
   "codemirror_mode": {
    "name": "ipython",
    "version": 3
   },
   "file_extension": ".py",
   "mimetype": "text/x-python",
   "name": "python",
   "nbconvert_exporter": "python",
   "pygments_lexer": "ipython3",
   "version": "3.6.5"
  }
 },
 "nbformat": 4,
 "nbformat_minor": 2
}
